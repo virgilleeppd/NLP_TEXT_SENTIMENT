{
 "cells": [
  {
   "cell_type": "code",
   "execution_count": 1,
   "id": "1de55ffb",
   "metadata": {
    "pycharm": {
     "name": "#%%\n"
    }
   },
   "outputs": [],
   "source": [
    "import os\n",
    "import re\n",
    "import pandas as pd\n",
    "import tensorflow as tf\n",
    "import seaborn as sns\n",
    "import numpy as np\n",
    "import matplotlib.pyplot as plt\n",
    "from sklearn.metrics import accuracy_score"
   ]
  },
  {
   "cell_type": "code",
   "execution_count": 2,
   "id": "e2f6c5e0",
   "metadata": {
    "pycharm": {
     "name": "#%%\n"
    }
   },
   "outputs": [
    {
     "name": "stderr",
     "output_type": "stream",
     "text": [
      "Using TensorFlow backend.\n"
     ]
    }
   ],
   "source": [
    "from keras.preprocessing.text import Tokenizer\n",
    "from keras.preprocessing.sequence import pad_sequences\n",
    "from keras.layers import Flatten,Dense,Embedding\n",
    "from keras import models, layers, optimizers, losses, metrics\n",
    "from keras.layers import Dropout\n",
    "#from keras.optimizers import Adam\n",
    "from tensorflow.keras.optimizers import Adam\n",
    "from keras.wrappers.scikit_learn import KerasClassifier\n",
    "from keras.models import Sequential\n",
    "from keras.layers.convolutional  import  Convolution1D, MaxPooling1D\n",
    "from keras.layers import LSTM\n",
    "from keras.callbacks import LambdaCallback\n",
    "tok = Tokenizer()"
   ]
  },
  {
   "cell_type": "markdown",
   "id": "6285fc11",
   "metadata": {
    "pycharm": {
     "name": "#%% md\n"
    }
   },
   "source": [
    "# Data Exploration and Pre-processing"
   ]
  },
  {
   "cell_type": "code",
   "execution_count": 3,
   "id": "b860ff65",
   "metadata": {
    "pycharm": {
     "name": "#%%\n"
    }
   },
   "outputs": [],
   "source": [
    "train_pos=[]\n",
    "train_neg=[]\n",
    "test_pos=[]\n",
    "test_neg=[]"
   ]
  },
  {
   "cell_type": "markdown",
   "id": "9f672b28",
   "metadata": {
    "pycharm": {
     "name": "#%% md\n"
    }
   },
   "source": [
    "train_test_split"
   ]
  },
  {
   "cell_type": "code",
   "execution_count": 4,
   "id": "2e9c49e6",
   "metadata": {
    "pycharm": {
     "name": "#%%\n"
    }
   },
   "outputs": [],
   "source": [
    "#imput data and make train_test_split\n",
    "def train_test_split(file_root):\n",
    "    train = []\n",
    "    test = []\n",
    "    for file_root, _, file in os.walk(file_root):\n",
    "        for f in file:\n",
    "                index = int(re.findall(\"\\d+\", f)[0])\n",
    "                file_path = os.path.join(file_root, f)\n",
    "                name = os.path.split(file_root)[-1]\n",
    "                if (index > 699):\n",
    "                    test.append(file_path)\n",
    "                else:\n",
    "                    train.append(file_path)\n",
    "    return train, test"
   ]
  },
  {
   "cell_type": "markdown",
   "id": "ced3a8d1",
   "metadata": {
    "pycharm": {
     "name": "#%% md\n"
    }
   },
   "source": [
    "Remove the punctuation and numbers"
   ]
  },
  {
   "cell_type": "code",
   "execution_count": 5,
   "id": "c4510d15",
   "metadata": {
    "pycharm": {
     "name": "#%%\n"
    }
   },
   "outputs": [],
   "source": [
    "#remove the punctuation\n",
    "def remove(text):\n",
    "    remove_chars = '[0-9’!\"#$%&\\'()*+,-./:;<=>?@，。?★、…【】《》？“”‘’！[\\\\]^_`{|}~]+'\n",
    "    return re.sub(remove_chars, '', text)"
   ]
  },
  {
   "cell_type": "code",
   "execution_count": 6,
   "id": "5bba0b2d",
   "metadata": {
    "pycharm": {
     "name": "#%%\n"
    }
   },
   "outputs": [],
   "source": [
    "train_pos,test_pos=train_test_split('../Data/pos')\n",
    "train_neg,test_neg=train_test_split('../Data/neg')"
   ]
  },
  {
   "cell_type": "code",
   "execution_count": 7,
   "id": "fab1e078",
   "metadata": {
    "pycharm": {
     "name": "#%%\n"
    }
   },
   "outputs": [],
   "source": [
    "#remove \\n and combine all the string\n",
    "stri=[]#the box to hold all the words"
   ]
  },
  {
   "cell_type": "code",
   "execution_count": 8,
   "id": "0d6c909a",
   "metadata": {
    "pycharm": {
     "name": "#%%\n"
    }
   },
   "outputs": [],
   "source": [
    "def remove_combine(data):\n",
    "    for i in range(0,len(data)):\n",
    "        f=open(data[i],'r')\n",
    "        st=f.read()\n",
    "        f.close()\n",
    "        st=remove(st)\n",
    "        st=st.replace('\\n','').replace('\\r','')\n",
    "        stri.append(st)"
   ]
  },
  {
   "cell_type": "markdown",
   "id": "a6c4b5b3",
   "metadata": {
    "pycharm": {
     "name": "#%% md\n"
    }
   },
   "source": [
    "Count the number of unique words"
   ]
  },
  {
   "cell_type": "code",
   "execution_count": 9,
   "id": "3ebc757e",
   "metadata": {
    "pycharm": {
     "name": "#%%\n"
    }
   },
   "outputs": [
    {
     "name": "stdout",
     "output_type": "stream",
     "text": [
      "All words is 46830\n"
     ]
    }
   ],
   "source": [
    "#combine\n",
    "remove_combine(train_pos)\n",
    "remove_combine(test_pos)\n",
    "remove_combine(train_neg)\n",
    "remove_combine(test_neg)\n",
    "#print(stri)\n",
    "tok.fit_on_texts(stri)\n",
    "#print(tok.word_counts)\n",
    "all_words=len(tok.word_counts)\n",
    "print('All words is',all_words)"
   ]
  },
  {
   "cell_type": "markdown",
   "id": "76f4e960",
   "metadata": {
    "pycharm": {
     "name": "#%% md\n"
    }
   },
   "source": [
    "Average review length and the standard deviation"
   ]
  },
  {
   "cell_type": "code",
   "execution_count": 10,
   "id": "5a9bad27",
   "metadata": {
    "pycharm": {
     "name": "#%%\n"
    }
   },
   "outputs": [
    {
     "name": "stdout",
     "output_type": "stream",
     "text": [
      "The average length of review is 644.361\n",
      "The std of review is 285.0598064014157\n"
     ]
    }
   ],
   "source": [
    "#show result\n",
    "review_len=[]\n",
    "for a in range(0,len(stri)):\n",
    "    st_new=stri[a]\n",
    "    st_new=st_new.split()\n",
    "    review_len.append(len(st_new))\n",
    "df_review_len=pd.DataFrame(review_len,columns=['length'])\n",
    "print('The average length of review is',df_review_len.mean().values[0])\n",
    "print('The std of review is',df_review_len.std().values[0])"
   ]
  },
  {
   "cell_type": "markdown",
   "id": "c9120693",
   "metadata": {
    "pycharm": {
     "name": "#%% md\n"
    }
   },
   "source": [
    "Plot the histogram"
   ]
  },
  {
   "cell_type": "code",
   "execution_count": 11,
   "id": "61ad8b23",
   "metadata": {
    "pycharm": {
     "name": "#%%\n"
    }
   },
   "outputs": [
    {
     "data": {
      "image/png": "[encoded data removed]",
      "text/plain": [
       "<Figure size 360x216 with 1 Axes>"
      ]
     },
     "metadata": {
      "needs_background": "light"
     },
     "output_type": "display_data"
    }
   ],
   "source": [
    "plt.figure(figsize=(5,3))\n",
    "sns.histplot(data=df_review_len, x='length')\n",
    "plt.show()"
   ]
  },
  {
   "cell_type": "markdown",
   "id": "6e59585d",
   "metadata": {
    "pycharm": {
     "name": "#%% md\n"
    }
   },
   "source": [
    "Select a review length L and Truncate reviews "
   ]
  },
  {
   "cell_type": "code",
   "execution_count": 12,
   "id": "91670b4d",
   "metadata": {
    "pycharm": {
     "name": "#%%\n"
    }
   },
   "outputs": [
    {
     "name": "stdout",
     "output_type": "stream",
     "text": [
      "[[  98 2272 8121 ...    0    0    0]\n",
      " [  61   65 1967 ...    0    0    0]\n",
      " [   1   66    4 ...    0    0    0]\n",
      " ...\n",
      " [1385 2280    6 ...    0    0    0]\n",
      " [ 152 4698   30 ...    0    0    0]\n",
      " [  23  685    5 ...    0    0    0]]\n"
     ]
    }
   ],
   "source": [
    "#data transfrom\n",
    "data_trans=tok.texts_to_sequences(stri)\n",
    "df_review_len_sort=df_review_len.sort_values(by='length')\n",
    "max_num=df_review_len_sort.iloc[int(len(review_len)*0.9),:].values[0] #choose max_length\n",
    "data_trans_true=pad_sequences(data_trans,maxlen=max_num,padding ='post',truncating='post')\n",
    "print(data_trans_true)"
   ]
  },
  {
   "cell_type": "code",
   "execution_count": 13,
   "id": "ddeb3508",
   "metadata": {
    "pycharm": {
     "name": "#%%\n"
    }
   },
   "outputs": [],
   "source": [
    "#train_test_split\n",
    "df_raw_data=pd.DataFrame(data_trans_true)\n",
    "x_train1=df_raw_data.iloc[:700,:]\n",
    "x_test1=df_raw_data.iloc[700:1000,:]\n",
    "x_train2=df_raw_data.iloc[1000:1700,:]\n",
    "x_test2=df_raw_data.iloc[1700:,:]\n",
    "x_train=pd.concat([x_train1,x_train2])\n",
    "x_test=pd.concat([x_test1,x_test2])\n",
    "x_train=pd.DataFrame(x_train.values)\n",
    "x_test=pd.DataFrame(x_test.values)\n",
    "x_train[x_train>=5000]=0\n",
    "x_test[x_test>=5000]=0\n",
    "y_train1=list(1 for i in range(1,701))\n",
    "y_train2=list(-1 for i in range(1,701))\n",
    "y_train=y_train1+y_train2\n",
    "y_test1=list(1 for i in range(1,301))\n",
    "y_test2=list(-1 for i in range(1,301))\n",
    "y_test=y_test1+y_test2"
   ]
  },
  {
   "cell_type": "code",
   "execution_count": 14,
   "id": "a0b4cc5e",
   "metadata": {
    "pycharm": {
     "name": "#%%\n"
    }
   },
   "outputs": [],
   "source": [
    "#mix up train_data\n",
    "indices=np.arange(x_train.shape[0])\n",
    "np.random.shuffle(indices)\n",
    "y_train=pd.DataFrame(y_train)\n",
    "x_train=x_train.loc[indices]\n",
    "y_train=y_train.loc[indices]\n",
    "x_train=x_train.values\n",
    "x_test=x_test.values"
   ]
  },
  {
   "cell_type": "markdown",
   "id": "65ec1054",
   "metadata": {
    "pycharm": {
     "name": "#%% md\n"
    }
   },
   "source": [
    "# Multi-Layer Perceptron"
   ]
  },
  {
   "cell_type": "code",
   "execution_count": 15,
   "id": "140fae9b",
   "metadata": {
    "pycharm": {
     "name": "#%%\n"
    }
   },
   "outputs": [],
   "source": [
    "#mlp\n",
    "def mlp(opt='adam'):\n",
    "    model = Sequential()\n",
    "    model.add(Embedding(5001, 32, input_length=max_num))\n",
    "    model.add(Flatten())\n",
    "    model.add(Dropout(rate=0.2))\n",
    "    model.add(Dense(units=50, activation='relu'))\n",
    "    model.add(Dropout(rate=0.5))\n",
    "    model.add(Dense(units=50, activation='relu'))\n",
    "    model.add(Dropout(rate=0.5))\n",
    "    model.add(Dense(units=50, activation='relu'))\n",
    "    model.add(Dropout(rate=0.5))\n",
    "    model.add(Dense(units=1, activation='sigmoid'))\n",
    "    model.compile(optimizer=opt, loss='binary_crossentropy', metrics=['accuracy'])\n",
    "    return model"
   ]
  },
  {
   "cell_type": "code",
   "execution_count": 18,
   "id": "0f693cca",
   "metadata": {
    "pycharm": {
     "name": "#%%\n"
    }
   },
   "outputs": [],
   "source": [
    "def acc_result(x_tr,x_te,y_tr,y_te,classifier,num_epochs):\n",
    "    mlp_model = KerasClassifier(build_fn=classifier, epochs=num_epochs, batch_size=10)\n",
    "    mlp_model.fit(x_tr,y_tr)\n",
    "    y_train_predict_mlp = mlp_model.predict(x_tr)\n",
    "    y_test_predict_mlp = mlp_model.predict(x_te)\n",
    "    train_acc = accuracy_score(y_tr,y_train_predict_mlp)\n",
    "    test_acc = accuracy_score(y_te,y_test_predict_mlp)\n",
    "    return train_acc, test_acc,y_train_predict_mlp,y_test_predict_mlp"
   ]
  },
  {
   "cell_type": "code",
   "execution_count": 19,
   "id": "53e826f8",
   "metadata": {
    "pycharm": {
     "name": "#%%\n"
    }
   },
   "outputs": [
    {
     "name": "stdout",
     "output_type": "stream",
     "text": [
      "Epoch 1/2\n",
      "1400/1400 [==============================] - 9s 6ms/step - loss: 0.7076 - accuracy: 0.4793\n",
      "Epoch 2/2\n",
      "1400/1400 [==============================] - 8s 6ms/step - loss: 0.6865 - accuracy: 0.5371\n",
      "Using mlp models, the train set accuracy is:0.6836, the test set accuracy is 0.5617.\n"
     ]
    }
   ],
   "source": [
    "#print the result of mlp\n",
    "mlp_train_acc,mlp_test_acc,y_p_train_mlp,y_p_test_mlp= acc_result(x_train,x_test,y_train,y_test,mlp,2)\n",
    "print('Using mlp models, the train set accuracy is:{}, the test set accuracy is {}.'.\n",
    "      format(round(mlp_train_acc,4),round(mlp_test_acc,4)))"
   ]
  },
  {
   "cell_type": "markdown",
   "id": "1a284635",
   "metadata": {
    "pycharm": {
     "name": "#%% md\n"
    }
   },
   "source": [
    "# One-Dimensional Convolutional Neural Network:"
   ]
  },
  {
   "cell_type": "code",
   "execution_count": 26,
   "id": "ec247d6a",
   "metadata": {
    "pycharm": {
     "name": "#%%\n"
    }
   },
   "outputs": [],
   "source": [
    "#CNN\n",
    "def CNN(opt='adam'):\n",
    "    model = Sequential()\n",
    "    model.add(Embedding(5001, 32, input_length=max_num))\n",
    "    model.add(Convolution1D(32,3,activation='relu'))\n",
    "    model.add(MaxPooling1D(strides=2,pool_size=2))\n",
    "    model.add(Flatten())\n",
    "    model.add(Dropout(rate=0.2))\n",
    "    model.add(Dense(units=50, activation='relu'))\n",
    "    model.add(Dropout(rate=0.5))\n",
    "    model.add(Dense(units=50, activation='relu'))\n",
    "    model.add(Dropout(rate=0.5))\n",
    "    model.add(Dense(units=50, activation='relu'))\n",
    "    model.add(Dropout(rate=0.5))\n",
    "    model.add(Dense(units=1, activation='sigmoid'))\n",
    "    model.compile(optimizer=opt, loss='binary_crossentropy', metrics=['accuracy'])\n",
    "    return model"
   ]
  },
  {
   "cell_type": "code",
   "execution_count": 27,
   "id": "46cf0a4f",
   "metadata": {
    "pycharm": {
     "name": "#%%\n"
    }
   },
   "outputs": [
    {
     "name": "stdout",
     "output_type": "stream",
     "text": [
      "Epoch 1/2\n",
      "1400/1400 [==============================] - 9s 7ms/step - loss: 0.6966 - accuracy: 0.5014\n",
      "Epoch 2/2\n",
      "1400/1400 [==============================] - 7s 5ms/step - loss: 0.6922 - accuracy: 0.5293\n",
      "Using cnn models, the train accuracy is:0.6521, the test accuracy is 0.5633.\n"
     ]
    }
   ],
   "source": [
    "cnn_train_acc,cnn_test_acc,y_p_train_cnn,y_p_test_cnn=acc_result(x_train,x_test,y_train,y_test,CNN,2)\n",
    "print('Using cnn models, the train accuracy is:{}, the test accuracy is {}.'.format(round(cnn_train_acc,4),round(cnn_test_acc,4)))"
   ]
  },
  {
   "cell_type": "markdown",
   "id": "a3dd5967",
   "metadata": {
    "pycharm": {
     "name": "#%% md\n"
    }
   },
   "source": [
    "# Long Short-Term Memory Recurrent Neural Network"
   ]
  },
  {
   "cell_type": "code",
   "execution_count": 28,
   "id": "faf8ba64",
   "metadata": {
    "pycharm": {
     "name": "#%%\n"
    }
   },
   "outputs": [],
   "source": [
    "#LSTM\n",
    "def LSTM_model(opt='adam'):\n",
    "    model = Sequential()\n",
    "    model.add(Embedding(5001, 32, input_length=max_num))\n",
    "    #model.add(Dropout(rate=0.2))\n",
    "    model.add(LSTM(32, return_sequences=True,activation='relu',dropout=0.2))\n",
    "    model.add(Flatten())\n",
    "    model.add(Dropout(rate=0.2))\n",
    "    model.add(Dense(units=256, activation='relu'))\n",
    "    model.add(Dropout(rate=0.2))\n",
    "    model.add(Dense(units=1, activation='sigmoid'))\n",
    "    adam_opt = Adam(learning_rate=0.000025, beta_1=0.8)\n",
    "    model.compile(opt=adam_opt, loss='binary_crossentropy', metrics=['accuracy'])\n",
    "    return model"
   ]
  },
  {
   "cell_type": "code",
   "execution_count": 29,
   "id": "3e7363f8",
   "metadata": {
    "pycharm": {
     "name": "#%%\n"
    }
   },
   "outputs": [
    {
     "name": "stdout",
     "output_type": "stream",
     "text": [
      "WARNING:tensorflow:Layer lstm_6 will not use cuDNN kernels since it doesn't meet the criteria. It will use a generic GPU kernel as fallback when running on GPU.\n",
      "Epoch 1/50\n"
     ]
    },
    {
     "name": "stderr",
     "output_type": "stream",
     "text": [
      "/var/folders/j2/2htns2157yj6r357mxpryfqm0000gn/T/ipykernel_1218/3461254047.py:2: DeprecationWarning: KerasClassifier is deprecated, use Sci-Keras (https://github.com/adriangb/scikeras) instead. See https://www.adriangb.com/scikeras/stable/migration.html for help migrating.\n",
      "  lstm_iter_model=KerasClassifier(build_fn=LSTM_model, epochs=50, batch_size=10)\n"
     ]
    },
    {
     "name": "stdout",
     "output_type": "stream",
     "text": [
      "140/140 [==============================] - 19s 130ms/step - loss: 0.6920 - accuracy: 0.5064\n",
      "Epoch 2/50\n",
      "140/140 [==============================] - 18s 130ms/step - loss: 0.6870 - accuracy: 0.5393\n",
      "Epoch 3/50\n",
      "140/140 [==============================] - 18s 131ms/step - loss: 0.6833 - accuracy: 0.5586\n",
      "Epoch 4/50\n",
      "140/140 [==============================] - 18s 131ms/step - loss: 0.6800 - accuracy: 0.5593\n",
      "Epoch 5/50\n",
      "140/140 [==============================] - 18s 131ms/step - loss: 0.6813 - accuracy: 0.5586\n",
      "Epoch 6/50\n",
      "140/140 [==============================] - 18s 131ms/step - loss: 0.6760 - accuracy: 0.5764\n",
      "Epoch 7/50\n",
      "140/140 [==============================] - 18s 131ms/step - loss: 0.6730 - accuracy: 0.5671\n",
      "Epoch 8/50\n",
      "140/140 [==============================] - 18s 131ms/step - loss: 0.6683 - accuracy: 0.5814\n",
      "Epoch 9/50\n",
      "140/140 [==============================] - 18s 131ms/step - loss: 0.6638 - accuracy: 0.5957\n",
      "Epoch 10/50\n",
      "140/140 [==============================] - 18s 131ms/step - loss: 0.6559 - accuracy: 0.6171\n",
      "Epoch 11/50\n",
      "140/140 [==============================] - 18s 131ms/step - loss: 0.6430 - accuracy: 0.6586\n",
      "Epoch 12/50\n",
      "140/140 [==============================] - 18s 131ms/step - loss: 0.6294 - accuracy: 0.6793\n",
      "Epoch 13/50\n",
      "140/140 [==============================] - 18s 131ms/step - loss: 0.6137 - accuracy: 0.7207\n",
      "Epoch 14/50\n",
      "140/140 [==============================] - 18s 131ms/step - loss: 0.5913 - accuracy: 0.7571\n",
      "Epoch 15/50\n",
      "140/140 [==============================] - 18s 132ms/step - loss: 0.5676 - accuracy: 0.7879\n",
      "Epoch 16/50\n",
      "140/140 [==============================] - 18s 132ms/step - loss: 0.5327 - accuracy: 0.8164\n",
      "Epoch 17/50\n",
      "140/140 [==============================] - 18s 131ms/step - loss: 0.5009 - accuracy: 0.8314\n",
      "Epoch 18/50\n",
      "140/140 [==============================] - 18s 132ms/step - loss: 0.4667 - accuracy: 0.8529\n",
      "Epoch 19/50\n",
      "140/140 [==============================] - 18s 131ms/step - loss: 0.4322 - accuracy: 0.8593\n",
      "Epoch 20/50\n",
      "140/140 [==============================] - 18s 131ms/step - loss: 0.3983 - accuracy: 0.8764\n",
      "Epoch 21/50\n",
      "140/140 [==============================] - 18s 131ms/step - loss: 0.3631 - accuracy: 0.8864\n",
      "Epoch 22/50\n",
      "140/140 [==============================] - 18s 131ms/step - loss: 0.3345 - accuracy: 0.9000\n",
      "Epoch 23/50\n",
      "140/140 [==============================] - 18s 131ms/step - loss: 0.3030 - accuracy: 0.9114\n",
      "Epoch 24/50\n",
      "140/140 [==============================] - 18s 132ms/step - loss: 0.2749 - accuracy: 0.9193\n",
      "Epoch 25/50\n",
      "140/140 [==============================] - 18s 132ms/step - loss: 0.2514 - accuracy: 0.9271\n",
      "Epoch 26/50\n",
      "140/140 [==============================] - 18s 132ms/step - loss: 0.2304 - accuracy: 0.9371\n",
      "Epoch 27/50\n",
      "140/140 [==============================] - 18s 132ms/step - loss: 0.2039 - accuracy: 0.9486\n",
      "Epoch 28/50\n",
      "140/140 [==============================] - 18s 132ms/step - loss: 0.1855 - accuracy: 0.9507\n",
      "Epoch 29/50\n",
      "140/140 [==============================] - 18s 132ms/step - loss: 0.1712 - accuracy: 0.9514\n",
      "Epoch 30/50\n",
      "140/140 [==============================] - 18s 132ms/step - loss: 0.1511 - accuracy: 0.9629\n",
      "Epoch 31/50\n",
      "140/140 [==============================] - 18s 132ms/step - loss: 0.1373 - accuracy: 0.9693\n",
      "Epoch 32/50\n",
      "140/140 [==============================] - 18s 132ms/step - loss: 0.1192 - accuracy: 0.9764\n",
      "Epoch 33/50\n",
      "140/140 [==============================] - 18s 132ms/step - loss: 0.1072 - accuracy: 0.9786\n",
      "Epoch 34/50\n",
      "140/140 [==============================] - 18s 132ms/step - loss: 0.0978 - accuracy: 0.9814\n",
      "Epoch 35/50\n",
      "140/140 [==============================] - 18s 132ms/step - loss: 0.0889 - accuracy: 0.9764\n",
      "Epoch 36/50\n",
      "140/140 [==============================] - 18s 132ms/step - loss: 0.0805 - accuracy: 0.9857\n",
      "Epoch 37/50\n",
      "140/140 [==============================] - 19s 133ms/step - loss: 0.0676 - accuracy: 0.9879\n",
      "Epoch 38/50\n",
      "140/140 [==============================] - 19s 133ms/step - loss: 0.0632 - accuracy: 0.9864\n",
      "Epoch 39/50\n",
      "140/140 [==============================] - 19s 132ms/step - loss: 0.0553 - accuracy: 0.9929\n",
      "Epoch 40/50\n",
      "140/140 [==============================] - 18s 132ms/step - loss: 0.0495 - accuracy: 0.9921\n",
      "Epoch 41/50\n",
      "140/140 [==============================] - 19s 133ms/step - loss: 0.0448 - accuracy: 0.9943\n",
      "Epoch 42/50\n",
      "140/140 [==============================] - 18s 132ms/step - loss: 0.0387 - accuracy: 0.9936\n",
      "Epoch 43/50\n",
      "140/140 [==============================] - 19s 132ms/step - loss: 0.0330 - accuracy: 0.9957\n",
      "Epoch 44/50\n",
      "140/140 [==============================] - 18s 132ms/step - loss: 0.0322 - accuracy: 0.9943\n",
      "Epoch 45/50\n",
      "140/140 [==============================] - 18s 131ms/step - loss: 0.0284 - accuracy: 0.9971\n",
      "Epoch 46/50\n",
      "140/140 [==============================] - 18s 132ms/step - loss: 0.0243 - accuracy: 0.9964\n",
      "Epoch 47/50\n",
      "140/140 [==============================] - 18s 132ms/step - loss: 0.0183 - accuracy: 0.9979\n",
      "Epoch 48/50\n",
      "140/140 [==============================] - 19s 133ms/step - loss: 0.0177 - accuracy: 0.9979\n",
      "Epoch 49/50\n",
      "140/140 [==============================] - 19s 133ms/step - loss: 0.0164 - accuracy: 0.9986\n",
      "Epoch 50/50\n",
      "140/140 [==============================] - 19s 133ms/step - loss: 0.0135 - accuracy: 0.9986\n"
     ]
    }
   ],
   "source": [
    "train_test_acc=[]\n",
    "lstm_iter_model=KerasClassifier(build_fn=LSTM_model, epochs=50, batch_size=10)\n",
    "save_point=LambdaCallback(on_epoch_end=lambda epochs,logs:train_test_acc.append([accuracy_score(y_train,lstm_iter_model.predict(x_train)),\n",
    "                                                                                 accuracy_score(y_test,lstm_iter_model.predict(x_test))]))\n",
    "\n",
    "with tf.device('/cpu:0'):\n",
    "    lstm_iter_model.fit(x_train,y_train,callbacks=[save_point])"
   ]
  },
  {
   "cell_type": "code",
   "execution_count": 31,
   "id": "10fb935f",
   "metadata": {
    "pycharm": {
     "name": "#%%\n"
    }
   },
   "outputs": [
    {
     "name": "stdout",
     "output_type": "stream",
     "text": [
      "    train_acc  test_acc\n",
      "1    0.557857  0.548333\n",
      "2    0.558571  0.540000\n",
      "3    0.562143  0.555000\n",
      "4    0.569286  0.560000\n",
      "5    0.581429  0.560000\n",
      "6    0.566429  0.560000\n",
      "7    0.567857  0.560000\n",
      "8    0.619286  0.565000\n",
      "9    0.640714  0.571667\n",
      "10   0.658571  0.588333\n",
      "11   0.705714  0.613333\n",
      "12   0.673571  0.586667\n",
      "13   0.815000  0.655000\n",
      "14   0.820000  0.675000\n",
      "15   0.852143  0.683333\n",
      "16   0.855000  0.683333\n",
      "17   0.851429  0.680000\n",
      "18   0.800714  0.635000\n",
      "19   0.877857  0.726667\n",
      "20   0.905714  0.761667\n",
      "21   0.914286  0.760000\n",
      "22   0.910714  0.760000\n",
      "23   0.912143  0.753333\n",
      "24   0.929286  0.775000\n",
      "25   0.921429  0.756667\n",
      "26   0.949286  0.786667\n",
      "27   0.902857  0.738333\n",
      "28   0.950000  0.780000\n",
      "29   0.935000  0.760000\n",
      "30   0.960714  0.778333\n",
      "31   0.975714  0.786667\n",
      "32   0.971429  0.786667\n",
      "33   0.984286  0.801667\n",
      "34   0.977143  0.786667\n",
      "35   0.985000  0.791667\n",
      "36   0.990714  0.823333\n",
      "37   0.987143  0.793333\n",
      "38   0.990000  0.803333\n",
      "39   0.990714  0.803333\n",
      "40   0.991429  0.811667\n",
      "41   0.994286  0.805000\n",
      "42   0.994286  0.808333\n",
      "43   0.990000  0.803333\n",
      "44   0.997857  0.818333\n",
      "45   0.993571  0.810000\n",
      "46   0.992857  0.810000\n",
      "47   0.997143  0.813333\n",
      "48   0.997857  0.813333\n",
      "49   0.997857  0.816667\n",
      "50   0.997857  0.818333\n"
     ]
    },
    {
     "data": {
      "image/png": "[encoded data removed]",
      "text/plain": [
       "<Figure size 720x360 with 1 Axes>"
      ]
     },
     "metadata": {
      "needs_background": "light"
     },
     "output_type": "display_data"
    }
   ],
   "source": [
    "df_lstm=pd.DataFrame(train_test_acc,columns=['train_acc','test_acc'])\n",
    "epoch=np.arange(1,len(df_lstm)+1)\n",
    "df_lstm.index=epoch\n",
    "print(df_lstm)\n",
    "plt.figure(figsize=(10,5))\n",
    "plt.plot(epoch,df_lstm['train_acc'],c='r',label='train_set_accuracy')\n",
    "plt.plot(epoch,df_lstm['test_acc'],c='b',label='test_set_accuracy')\n",
    "plt.xlabel('epoch')\n",
    "plt.ylabel('acc')\n",
    "plt.legend()\n",
    "plt.show()"
   ]
  },
  {
   "cell_type": "code",
   "execution_count": null,
   "id": "a2f7170d",
   "metadata": {
    "pycharm": {
     "name": "#%%\n"
    }
   },
   "outputs": [],
   "source": []
  }
 ],
 "metadata": {
  "kernelspec": {
   "display_name": "Python 3",
   "language": "python",
   "name": "python3"
  },
  "language_info": {
   "codemirror_mode": {
    "name": "ipython",
    "version": 3
   },
   "file_extension": ".py",
   "mimetype": "text/x-python",
   "name": "python",
   "nbconvert_exporter": "python",
   "pygments_lexer": "ipython3",
   "version": "3.6.13"
  }
 },
 "nbformat": 4,
 "nbformat_minor": 5
}
