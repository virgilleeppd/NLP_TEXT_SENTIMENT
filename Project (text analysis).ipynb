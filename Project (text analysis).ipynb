{
 "cells": [
  {
   "cell_type": "code",
   "execution_count": 1,
   "id": "1de55ffb",
   "metadata": {
    "pycharm": {
     "name": "#%%\n"
    }
   },
   "outputs": [],
   "source": [
    "import os\n",
    "import re\n",
    "import pandas as pd\n",
    "import tensorflow as tf\n",
    "import seaborn as sns\n",
    "import numpy as np\n",
    "import matplotlib.pyplot as plt\n",
    "from sklearn.metrics import accuracy_score"
   ]
  },
  {
   "cell_type": "code",
   "execution_count": 2,
   "id": "e2f6c5e0",
   "metadata": {
    "pycharm": {
     "name": "#%%\n"
    }
   },
   "outputs": [
    {
     "name": "stderr",
     "output_type": "stream",
     "text": [
      "Using TensorFlow backend.\n"
     ]
    }
   ],
   "source": [
    "from keras.preprocessing.text import Tokenizer\n",
    "from keras.preprocessing.sequence import pad_sequences\n",
    "from keras.layers import Flatten,Dense,Embedding\n",
    "from keras import models, layers, optimizers, losses, metrics\n",
    "from keras.layers import Dropout\n",
    "from keras.optimizers import Adam\n",
    "from keras.wrappers.scikit_learn import KerasClassifier\n",
    "from keras.models import Sequential\n",
    "from keras.layers.convolutional  import  Convolution1D, MaxPooling1D\n",
    "from keras.layers import LSTM\n",
    "from keras.callbacks import LambdaCallback\n",
    "tok = Tokenizer()"
   ]
  },
  {
   "cell_type": "code",
   "execution_count": 3,
   "id": "b860ff65",
   "metadata": {
    "pycharm": {
     "name": "#%%\n"
    }
   },
   "outputs": [],
   "source": [
    "train_pos=[]\n",
    "train_neg=[]\n",
    "test_pos=[]\n",
    "test_neg=[]"
   ]
  },
  {
   "cell_type": "code",
   "execution_count": 4,
   "id": "2e9c49e6",
   "metadata": {
    "pycharm": {
     "name": "#%%\n"
    }
   },
   "outputs": [],
   "source": [
    "#imput data and make train_test_split\n",
    "def train_test_split(file_root):\n",
    "    train = []\n",
    "    test = []\n",
    "    for file_root, _, file in os.walk(file_root):\n",
    "        for f in file:\n",
    "                index = int(re.findall(\"\\d+\", f)[0])\n",
    "                file_path = os.path.join(file_root, f)\n",
    "                name = os.path.split(file_root)[-1]\n",
    "                if (index > 699):\n",
    "                    test.append(file_path)\n",
    "                else:\n",
    "                    train.append(file_path)\n",
    "    return train, test"
   ]
  },
  {
   "cell_type": "code",
   "execution_count": 5,
   "id": "c4510d15",
   "metadata": {
    "pycharm": {
     "name": "#%%\n"
    }
   },
   "outputs": [],
   "source": [
    "#remove the punctuation\n",
    "def remove(text):\n",
    "    remove_chars = '[0-9’!\"#$%&\\'()*+,-./:;<=>?@，。?★、…【】《》？“”‘’！[\\\\]^_`{|}~]+'\n",
    "    return re.sub(remove_chars, '', text)"
   ]
  },
  {
   "cell_type": "code",
   "execution_count": 6,
   "id": "5bba0b2d",
   "metadata": {
    "pycharm": {
     "name": "#%%\n"
    }
   },
   "outputs": [],
   "source": [
    "train_pos,test_pos=train_test_split('../Data/pos')\n",
    "train_neg,test_neg=train_test_split('../Data/neg')"
   ]
  },
  {
   "cell_type": "code",
   "execution_count": 7,
   "id": "fab1e078",
   "metadata": {
    "pycharm": {
     "name": "#%%\n"
    }
   },
   "outputs": [],
   "source": [
    "#remove \\n and combine all the string\n",
    "stri=[]#the box to hold all the words"
   ]
  },
  {
   "cell_type": "code",
   "execution_count": 8,
   "id": "0d6c909a",
   "metadata": {
    "pycharm": {
     "name": "#%%\n"
    }
   },
   "outputs": [],
   "source": [
    "def remove_combine(data):\n",
    "    for i in range(0,len(data)):\n",
    "        f=open(data[i],'r')\n",
    "        st=f.read()\n",
    "        f.close()\n",
    "        st=remove(st)\n",
    "        st=st.replace('\\n','').replace('\\r','')\n",
    "        stri.append(st)"
   ]
  },
  {
   "cell_type": "code",
   "execution_count": 9,
   "id": "3ebc757e",
   "metadata": {
    "pycharm": {
     "name": "#%%\n"
    }
   },
   "outputs": [
    {
     "name": "stdout",
     "output_type": "stream",
     "text": [
      "All words is 46830\n"
     ]
    }
   ],
   "source": [
    "#combine\n",
    "remove_combine(train_pos)\n",
    "remove_combine(test_pos)\n",
    "remove_combine(train_neg)\n",
    "remove_combine(test_neg)\n",
    "#print(stri)\n",
    "tok.fit_on_texts(stri)\n",
    "#print(tok.word_counts)\n",
    "all_words=len(tok.word_counts)\n",
    "print('All words is',all_words)"
   ]
  },
  {
   "cell_type": "code",
   "execution_count": 10,
   "id": "5a9bad27",
   "metadata": {
    "pycharm": {
     "name": "#%%\n"
    }
   },
   "outputs": [
    {
     "name": "stdout",
     "output_type": "stream",
     "text": [
      "The average length of review is 644.361\n",
      "The std of review is 285.0598064014157\n"
     ]
    }
   ],
   "source": [
    "#show result\n",
    "review_len=[]\n",
    "for a in range(0,len(stri)):\n",
    "    st_new=stri[a]\n",
    "    st_new=st_new.split()\n",
    "    review_len.append(len(st_new))\n",
    "df_review_len=pd.DataFrame(review_len,columns=['length'])\n",
    "print('The average length of review is',df_review_len.mean().values[0])\n",
    "print('The std of review is',df_review_len.std().values[0])"
   ]
  },
  {
   "cell_type": "code",
   "execution_count": 11,
   "id": "61ad8b23",
   "metadata": {
    "pycharm": {
     "name": "#%%\n"
    }
   },
   "outputs": [
    {
     "data": {
      "image/png": "[encoded data removed]",
      "text/plain": [
       "<Figure size 360x216 with 1 Axes>"
      ]
     },
     "metadata": {
      "needs_background": "light"
     },
     "output_type": "display_data"
    }
   ],
   "source": [
    "plt.figure(figsize=(5,3))\n",
    "sns.histplot(data=df_review_len, x='length')\n",
    "plt.show()"
   ]
  },
  {
   "cell_type": "code",
   "execution_count": 28,
   "id": "91670b4d",
   "metadata": {
    "pycharm": {
     "name": "#%%\n"
    }
   },
   "outputs": [
    {
     "name": "stdout",
     "output_type": "stream",
     "text": [
      "[[  98 2272 8121 ...    0    0    0]\n",
      " [  61   65 1967 ...    0    0    0]\n",
      " [   1   66    4 ...    0    0    0]\n",
      " ...\n",
      " [1385 2280    6 ...    0    0    0]\n",
      " [ 152 4698   30 ...    0    0    0]\n",
      " [  23  685    5 ...    0    0    0]]\n"
     ]
    }
   ],
   "source": [
    "#data transfrom\n",
    "data_trans=tok.texts_to_sequences(stri)\n",
    "df_review_len_sort=df_review_len.sort_values(by='length')\n",
    "max_num=df_review_len_sort.iloc[int(len(review_len)*0.9),:].values[0] #choose max_length\n",
    "data_trans_true=pad_sequences(data_trans,maxlen=max_num,padding ='post',truncating='post')\n",
    "print(data_trans_true)"
   ]
  },
  {
   "cell_type": "code",
   "execution_count": 29,
   "id": "ddeb3508",
   "metadata": {
    "pycharm": {
     "name": "#%%\n"
    }
   },
   "outputs": [],
   "source": [
    "#train_test_split\n",
    "df_raw_data=pd.DataFrame(data_trans_true)\n",
    "x_train1=df_raw_data.iloc[:700,:]\n",
    "x_test1=df_raw_data.iloc[700:1000,:]\n",
    "x_train2=df_raw_data.iloc[1000:1700,:]\n",
    "x_test2=df_raw_data.iloc[1700:,:]\n",
    "x_train=pd.concat([x_train1,x_train2])\n",
    "x_test=pd.concat([x_test1,x_test2])\n",
    "x_train=pd.DataFrame(x_train.values)\n",
    "x_test=pd.DataFrame(x_test.values)\n",
    "x_train[x_train>=5000]=0\n",
    "x_test[x_test>=5000]=0\n",
    "y_train1=list(1 for i in range(1,701))\n",
    "y_train2=list(-1 for i in range(1,701))\n",
    "y_train=y_train1+y_train2\n",
    "y_test1=list(1 for i in range(1,301))\n",
    "y_test2=list(-1 for i in range(1,301))\n",
    "y_test=y_test1+y_test2"
   ]
  },
  {
   "cell_type": "code",
   "execution_count": 30,
   "id": "a0b4cc5e",
   "metadata": {
    "pycharm": {
     "name": "#%%\n"
    }
   },
   "outputs": [],
   "source": [
    "#mix up train_data\n",
    "indices=np.arange(x_train.shape[0])\n",
    "np.random.shuffle(indices)\n",
    "y_train=pd.DataFrame(y_train)\n",
    "x_train=x_train.loc[indices]\n",
    "y_train=y_train.loc[indices]\n",
    "x_train=x_train.values\n",
    "x_test=x_test.values"
   ]
  },
  {
   "cell_type": "code",
   "execution_count": 17,
   "id": "140fae9b",
   "metadata": {
    "pycharm": {
     "name": "#%%\n"
    }
   },
   "outputs": [],
   "source": [
    "#mlp\n",
    "def mlp(opt='adam'):\n",
    "    model = Sequential()\n",
    "    model.add(Embedding(5001, 32, input_length=max_num))\n",
    "    model.add(Flatten())\n",
    "    model.add(Dropout(rate=0.2))\n",
    "    model.add(Dense(units=50, activation='relu'))\n",
    "    model.add(Dropout(rate=0.5))\n",
    "    model.add(Dense(units=50, activation='relu'))\n",
    "    model.add(Dropout(rate=0.5))\n",
    "    model.add(Dense(units=50, activation='relu'))\n",
    "    model.add(Dropout(rate=0.5))\n",
    "    model.add(Dense(units=1, activation='sigmoid'))\n",
    "    model.compile(optimizer=opt, loss='binary_crossentropy', metrics=['accuracy'])\n",
    "    return model"
   ]
  },
  {
   "cell_type": "code",
   "execution_count": 22,
   "id": "0f693cca",
   "metadata": {
    "pycharm": {
     "name": "#%%\n"
    }
   },
   "outputs": [],
   "source": [
    "def acc_result(x_tr,x_te,y_tr,y_te,classifier,num_epochs):\n",
    "    mlp_model = KerasClassifier(build_fn=classifier, epochs=num_epochs, batch_size=10)\n",
    "    mlp_model.fit(x_tr,y_tr)\n",
    "    y_train_predict_mlp = mlp_model.predict(x_tr)\n",
    "    y_test_predict_mlp = mlp_model.predict(x_te)\n",
    "    train_acc = accuracy_score(y_tr,y_train_predict_mlp)\n",
    "    test_acc = accuracy_score(y_te,y_test_predict_mlp)\n",
    "    return train_acc, test_acc,y_train_predict_mlp,y_test_predict_mlp"
   ]
  },
  {
   "cell_type": "code",
   "execution_count": 23,
   "id": "53e826f8",
   "metadata": {
    "pycharm": {
     "name": "#%%\n"
    }
   },
   "outputs": [
    {
     "name": "stdout",
     "output_type": "stream",
     "text": [
      "Epoch 1/2\n",
      "1400/1400 [==============================] - 9s 6ms/step - loss: 0.6991 - accuracy: 0.5029\n",
      "Epoch 2/2\n",
      "1400/1400 [==============================] - 7s 5ms/step - loss: 0.6873 - accuracy: 0.5350\n",
      "Using mlp models, the train set accuracy is:0.7193, the test set accuracy is 0.54.\n"
     ]
    }
   ],
   "source": [
    "#print the result of mlp\n",
    "mlp_train_acc,mlp_test_acc,y_p_train_mlp,y_p_test_mlp= acc_result(x_train,x_test,y_train,y_test,mlp,2)\n",
    "print('Using mlp models, the train set accuracy is:{}, the test set accuracy is {}.'.\n",
    "      format(round(mlp_train_acc,4),round(mlp_test_acc,4)))"
   ]
  },
  {
   "cell_type": "code",
   "execution_count": 26,
   "id": "ec247d6a",
   "metadata": {
    "pycharm": {
     "name": "#%%\n"
    }
   },
   "outputs": [],
   "source": [
    "#CNN\n",
    "def CNN(opt='adam'):\n",
    "    model = Sequential()\n",
    "    model.add(Embedding(5001, 32, input_length=max_num))\n",
    "    model.add(Convolution1D(32,3,activation='relu'))\n",
    "    model.add(MaxPooling1D(strides=2,pool_size=2))\n",
    "    model.add(Flatten())\n",
    "    model.add(Dropout(rate=0.2))\n",
    "    model.add(Dense(units=50, activation='relu'))\n",
    "    model.add(Dropout(rate=0.5))\n",
    "    model.add(Dense(units=50, activation='relu'))\n",
    "    model.add(Dropout(rate=0.5))\n",
    "    model.add(Dense(units=50, activation='relu'))\n",
    "    model.add(Dropout(rate=0.5))\n",
    "    model.add(Dense(units=1, activation='sigmoid'))\n",
    "    model.compile(optimizer=opt, loss='binary_crossentropy', metrics=['accuracy'])\n",
    "    return model"
   ]
  },
  {
   "cell_type": "code",
   "execution_count": 27,
   "id": "46cf0a4f",
   "metadata": {
    "pycharm": {
     "name": "#%%\n"
    }
   },
   "outputs": [
    {
     "name": "stdout",
     "output_type": "stream",
     "text": [
      "Epoch 1/2\n",
      "1400/1400 [==============================] - 9s 7ms/step - loss: 0.6966 - accuracy: 0.5014\n",
      "Epoch 2/2\n",
      "1400/1400 [==============================] - 7s 5ms/step - loss: 0.6922 - accuracy: 0.5293\n",
      "Using cnn models, the train accuracy is:0.6521, the test accuracy is 0.5633.\n"
     ]
    }
   ],
   "source": [
    "cnn_train_acc,cnn_test_acc,y_p_train_cnn,y_p_test_cnn=acc_result(x_train,x_test,y_train,y_test,CNN,2)\n",
    "print('Using cnn models, the train accuracy is:{}, the test accuracy is {}.'.format(round(cnn_train_acc,4),round(cnn_test_acc,4)))"
   ]
  },
  {
   "cell_type": "code",
   "execution_count": 31,
   "id": "faf8ba64",
   "metadata": {
    "pycharm": {
     "name": "#%%\n"
    }
   },
   "outputs": [],
   "source": [
    "#LSTM\n",
    "def LSTM_model(opt='adam'):\n",
    "    model = Sequential()\n",
    "    model.add(Embedding(5001, 32, input_length=max_num))\n",
    "    #model.add(Dropout(rate=0.2))\n",
    "    model.add(LSTM(32, return_sequences=True,activation='relu',dropout=0.2))\n",
    "    model.add(Flatten())\n",
    "    model.add(Dropout(rate=0.2))\n",
    "    model.add(Dense(units=256, activation='relu'))\n",
    "    model.add(Dropout(rate=0.2))\n",
    "    model.add(Dense(units=1, activation='sigmoid'))\n",
    "    adam_optimizer = Adam(lr=0.0001, beta_1=0.5)\n",
    "    model.compile(optimizer=adam_optimizer, loss='binary_crossentropy', metrics=['accuracy'])\n",
    "    return model"
   ]
  },
  {
   "cell_type": "code",
   "execution_count": null,
   "id": "3e7363f8",
   "metadata": {
    "pycharm": {
     "name": "#%%\n"
    }
   },
   "outputs": [
    {
     "name": "stdout",
     "output_type": "stream",
     "text": [
      "WARNING:tensorflow:From /Users/virgil_lee/Downloads/anaconda/anaconda3/envs/untitled2/lib/python3.7/site-packages/tensorflow_core/python/ops/resource_variable_ops.py:1630: calling BaseResourceVariable.__init__ (from tensorflow.python.ops.resource_variable_ops) with constraint is deprecated and will be removed in a future version.\n",
      "Instructions for updating:\n",
      "If using Keras pass *_constraint arguments to layers.\n"
     ]
    },
    {
     "name": "stderr",
     "output_type": "stream",
     "text": [
      "WARNING:tensorflow:From /Users/virgil_lee/Downloads/anaconda/anaconda3/envs/untitled2/lib/python3.7/site-packages/tensorflow_core/python/ops/resource_variable_ops.py:1630: calling BaseResourceVariable.__init__ (from tensorflow.python.ops.resource_variable_ops) with constraint is deprecated and will be removed in a future version.\n",
      "Instructions for updating:\n",
      "If using Keras pass *_constraint arguments to layers.\n"
     ]
    },
    {
     "name": "stdout",
     "output_type": "stream",
     "text": [
      "WARNING:tensorflow:From /Users/virgil_lee/Downloads/anaconda/anaconda3/envs/untitled2/lib/python3.7/site-packages/tensorflow_core/python/ops/nn_impl.py:183: where (from tensorflow.python.ops.array_ops) is deprecated and will be removed in a future version.\n",
      "Instructions for updating:\n",
      "Use tf.where in 2.0, which has the same broadcast rule as np.where\n"
     ]
    },
    {
     "name": "stderr",
     "output_type": "stream",
     "text": [
      "WARNING:tensorflow:From /Users/virgil_lee/Downloads/anaconda/anaconda3/envs/untitled2/lib/python3.7/site-packages/tensorflow_core/python/ops/nn_impl.py:183: where (from tensorflow.python.ops.array_ops) is deprecated and will be removed in a future version.\n",
      "Instructions for updating:\n",
      "Use tf.where in 2.0, which has the same broadcast rule as np.where\n",
      "2022-05-10 10:08:06.039033: I tensorflow/core/platform/cpu_feature_guard.cc:145] This TensorFlow binary is optimized with Intel(R) MKL-DNN to use the following CPU instructions in performance critical operations:  SSE4.1 SSE4.2 AVX AVX2 FMA\n",
      "To enable them in non-MKL-DNN operations, rebuild TensorFlow with the appropriate compiler flags.\n",
      "2022-05-10 10:08:06.039551: I tensorflow/core/common_runtime/process_util.cc:115] Creating new thread pool with default inter op setting: 8. Tune using inter_op_parallelism_threads for best performance.\n"
     ]
    },
    {
     "name": "stdout",
     "output_type": "stream",
     "text": [
      "WARNING:tensorflow:From /Users/virgil_lee/Downloads/anaconda/anaconda3/envs/untitled2/lib/python3.7/site-packages/keras/backend/tensorflow_backend.py:422: The name tf.global_variables is deprecated. Please use tf.compat.v1.global_variables instead.\n",
      "\n"
     ]
    },
    {
     "name": "stderr",
     "output_type": "stream",
     "text": [
      "WARNING:tensorflow:From /Users/virgil_lee/Downloads/anaconda/anaconda3/envs/untitled2/lib/python3.7/site-packages/keras/backend/tensorflow_backend.py:422: The name tf.global_variables is deprecated. Please use tf.compat.v1.global_variables instead.\n",
      "\n"
     ]
    },
    {
     "name": "stdout",
     "output_type": "stream",
     "text": [
      "Epoch 1/50\n",
      "1400/1400 [==============================] - 550s 393ms/step - loss: 0.6953 - accuracy: 0.5093\n",
      "Epoch 2/50\n",
      " 710/1400 [==============>...............] - ETA: 5:51 - loss: 0.6869 - accuracy: 0.5577"
     ]
    },
    {
     "name": "stderr",
     "output_type": "stream",
     "text": [
      "ERROR:root:Internal Python error in the inspect module.\n",
      "Below is the traceback from this internal error.\n",
      "\n",
      "ERROR:root:Internal Python error in the inspect module.\n",
      "Below is the traceback from this internal error.\n",
      "\n",
      "ERROR:root:Internal Python error in the inspect module.\n",
      "Below is the traceback from this internal error.\n",
      "\n"
     ]
    },
    {
     "name": "stdout",
     "output_type": "stream",
     "text": [
      "Traceback (most recent call last):\n",
      "  File \"/Users/virgil_lee/Downloads/anaconda/anaconda3/envs/untitled2/lib/python3.7/site-packages/IPython/core/interactiveshell.py\", line 3457, in run_code\n",
      "    exec(code_obj, self.user_global_ns, self.user_ns)\n",
      "  File \"/var/folders/9g/15wmnj2j4913201hs60_m1sh0000gn/T/ipykernel_74337/344838209.py\", line 5, in <module>\n",
      "    lstm_iter_model.fit(x_train,y_train,callbacks=[save_point])\n",
      "  File \"/Users/virgil_lee/Downloads/anaconda/anaconda3/envs/untitled2/lib/python3.7/site-packages/keras/wrappers/scikit_learn.py\", line 209, in fit\n",
      "    return super(KerasClassifier, self).fit(x, y, **kwargs)\n",
      "  File \"/Users/virgil_lee/Downloads/anaconda/anaconda3/envs/untitled2/lib/python3.7/site-packages/keras/wrappers/scikit_learn.py\", line 151, in fit\n",
      "    history = self.model.fit(x, y, **fit_args)\n",
      "  File \"/Users/virgil_lee/Downloads/anaconda/anaconda3/envs/untitled2/lib/python3.7/site-packages/keras/engine/training.py\", line 1239, in fit\n",
      "    validation_freq=validation_freq)\n",
      "  File \"/Users/virgil_lee/Downloads/anaconda/anaconda3/envs/untitled2/lib/python3.7/site-packages/keras/engine/training_arrays.py\", line 196, in fit_loop\n",
      "    outs = fit_function(ins_batch)\n",
      "  File \"/Users/virgil_lee/Downloads/anaconda/anaconda3/envs/untitled2/lib/python3.7/site-packages/tensorflow_core/python/keras/backend.py\", line 3476, in __call__\n",
      "    run_metadata=self.run_metadata)\n",
      "  File \"/Users/virgil_lee/Downloads/anaconda/anaconda3/envs/untitled2/lib/python3.7/site-packages/tensorflow_core/python/client/session.py\", line 1472, in __call__\n",
      "    run_metadata_ptr)\n",
      "KeyboardInterrupt\n",
      "\n",
      "During handling of the above exception, another exception occurred:\n",
      "\n",
      "Traceback (most recent call last):\n",
      "  File \"/Users/virgil_lee/Downloads/anaconda/anaconda3/envs/untitled2/lib/python3.7/site-packages/IPython/core/interactiveshell.py\", line 2077, in showtraceback\n",
      "    stb = value._render_traceback_()\n",
      "AttributeError: 'KeyboardInterrupt' object has no attribute '_render_traceback_'\n",
      "\n",
      "During handling of the above exception, another exception occurred:\n",
      "\n",
      "Traceback (most recent call last):\n",
      "  File \"/Users/virgil_lee/Downloads/anaconda/anaconda3/envs/untitled2/lib/python3.7/site-packages/IPython/core/ultratb.py\", line 1101, in get_records\n",
      "    return _fixed_getinnerframes(etb, number_of_lines_of_context, tb_offset)\n",
      "  File \"/Users/virgil_lee/Downloads/anaconda/anaconda3/envs/untitled2/lib/python3.7/site-packages/IPython/core/ultratb.py\", line 248, in wrapped\n",
      "    return f(*args, **kwargs)\n",
      "  File \"/Users/virgil_lee/Downloads/anaconda/anaconda3/envs/untitled2/lib/python3.7/site-packages/IPython/core/ultratb.py\", line 281, in _fixed_getinnerframes\n",
      "    records = fix_frame_records_filenames(inspect.getinnerframes(etb, context))\n",
      "  File \"/Users/virgil_lee/Downloads/anaconda/anaconda3/envs/untitled2/lib/python3.7/inspect.py\", line 1502, in getinnerframes\n",
      "    frameinfo = (tb.tb_frame,) + getframeinfo(tb, context)\n",
      "  File \"/Users/virgil_lee/Downloads/anaconda/anaconda3/envs/untitled2/lib/python3.7/inspect.py\", line 1460, in getframeinfo\n",
      "    filename = getsourcefile(frame) or getfile(frame)\n",
      "  File \"/Users/virgil_lee/Downloads/anaconda/anaconda3/envs/untitled2/lib/python3.7/inspect.py\", line 696, in getsourcefile\n",
      "    if getattr(getmodule(object, filename), '__loader__', None) is not None:\n",
      "  File \"/Users/virgil_lee/Downloads/anaconda/anaconda3/envs/untitled2/lib/python3.7/inspect.py\", line 733, in getmodule\n",
      "    if ismodule(module) and hasattr(module, '__file__'):\n",
      "  File \"/Users/virgil_lee/Downloads/anaconda/anaconda3/envs/untitled2/lib/python3.7/site-packages/tensorflow/__init__.py\", line 50, in __getattr__\n",
      "    module = self._load()\n",
      "  File \"/Users/virgil_lee/Downloads/anaconda/anaconda3/envs/untitled2/lib/python3.7/site-packages/tensorflow/__init__.py\", line 44, in _load\n",
      "    module = _importlib.import_module(self.__name__)\n",
      "  File \"/Users/virgil_lee/Downloads/anaconda/anaconda3/envs/untitled2/lib/python3.7/importlib/__init__.py\", line 127, in import_module\n",
      "    return _bootstrap._gcd_import(name[level:], package, level)\n",
      "  File \"<frozen importlib._bootstrap>\", line 1006, in _gcd_import\n",
      "  File \"<frozen importlib._bootstrap>\", line 983, in _find_and_load\n",
      "  File \"<frozen importlib._bootstrap>\", line 965, in _find_and_load_unlocked\n",
      "ModuleNotFoundError: No module named 'tensorflow_core.estimator'\n",
      "Traceback (most recent call last):\n",
      "  File \"/Users/virgil_lee/Downloads/anaconda/anaconda3/envs/untitled2/lib/python3.7/site-packages/IPython/core/interactiveshell.py\", line 3457, in run_code\n",
      "    exec(code_obj, self.user_global_ns, self.user_ns)\n",
      "  File \"/var/folders/9g/15wmnj2j4913201hs60_m1sh0000gn/T/ipykernel_74337/344838209.py\", line 5, in <module>\n",
      "    lstm_iter_model.fit(x_train,y_train,callbacks=[save_point])\n",
      "  File \"/Users/virgil_lee/Downloads/anaconda/anaconda3/envs/untitled2/lib/python3.7/site-packages/keras/wrappers/scikit_learn.py\", line 209, in fit\n",
      "    return super(KerasClassifier, self).fit(x, y, **kwargs)\n",
      "  File \"/Users/virgil_lee/Downloads/anaconda/anaconda3/envs/untitled2/lib/python3.7/site-packages/keras/wrappers/scikit_learn.py\", line 151, in fit\n",
      "    history = self.model.fit(x, y, **fit_args)\n",
      "  File \"/Users/virgil_lee/Downloads/anaconda/anaconda3/envs/untitled2/lib/python3.7/site-packages/keras/engine/training.py\", line 1239, in fit\n",
      "    validation_freq=validation_freq)\n",
      "  File \"/Users/virgil_lee/Downloads/anaconda/anaconda3/envs/untitled2/lib/python3.7/site-packages/keras/engine/training_arrays.py\", line 196, in fit_loop\n",
      "    outs = fit_function(ins_batch)\n",
      "  File \"/Users/virgil_lee/Downloads/anaconda/anaconda3/envs/untitled2/lib/python3.7/site-packages/tensorflow_core/python/keras/backend.py\", line 3476, in __call__\n",
      "    run_metadata=self.run_metadata)\n",
      "  File \"/Users/virgil_lee/Downloads/anaconda/anaconda3/envs/untitled2/lib/python3.7/site-packages/tensorflow_core/python/client/session.py\", line 1472, in __call__\n",
      "    run_metadata_ptr)\n",
      "KeyboardInterrupt\n",
      "\n",
      "During handling of the above exception, another exception occurred:\n",
      "\n",
      "Traceback (most recent call last):\n",
      "  File \"/Users/virgil_lee/Downloads/anaconda/anaconda3/envs/untitled2/lib/python3.7/site-packages/IPython/core/interactiveshell.py\", line 2077, in showtraceback\n",
      "    stb = value._render_traceback_()\n",
      "AttributeError: 'KeyboardInterrupt' object has no attribute '_render_traceback_'\n",
      "\n",
      "During handling of the above exception, another exception occurred:\n",
      "\n",
      "Traceback (most recent call last):\n",
      "  File \"/Users/virgil_lee/Downloads/anaconda/anaconda3/envs/untitled2/lib/python3.7/site-packages/IPython/core/interactiveshell.py\", line 3377, in run_ast_nodes\n",
      "    if (await self.run_code(code, result,  async_=asy)):\n",
      "  File \"/Users/virgil_lee/Downloads/anaconda/anaconda3/envs/untitled2/lib/python3.7/site-packages/IPython/core/interactiveshell.py\", line 3474, in run_code\n",
      "    self.showtraceback(running_compiled_code=True)\n",
      "  File \"/Users/virgil_lee/Downloads/anaconda/anaconda3/envs/untitled2/lib/python3.7/site-packages/IPython/core/interactiveshell.py\", line 2080, in showtraceback\n",
      "    value, tb, tb_offset=tb_offset)\n",
      "  File \"/Users/virgil_lee/Downloads/anaconda/anaconda3/envs/untitled2/lib/python3.7/site-packages/IPython/core/ultratb.py\", line 1368, in structured_traceback\n",
      "    self, etype, value, tb, tb_offset, number_of_lines_of_context)\n",
      "  File \"/Users/virgil_lee/Downloads/anaconda/anaconda3/envs/untitled2/lib/python3.7/site-packages/IPython/core/ultratb.py\", line 1268, in structured_traceback\n",
      "    self, etype, value, tb, tb_offset, number_of_lines_of_context\n",
      "  File \"/Users/virgil_lee/Downloads/anaconda/anaconda3/envs/untitled2/lib/python3.7/site-packages/IPython/core/ultratb.py\", line 1125, in structured_traceback\n",
      "    tb_offset)\n",
      "  File \"/Users/virgil_lee/Downloads/anaconda/anaconda3/envs/untitled2/lib/python3.7/site-packages/IPython/core/ultratb.py\", line 1082, in format_exception_as_a_whole\n",
      "    last_unique, recursion_repeat = find_recursion(orig_etype, evalue, records)\n",
      "  File \"/Users/virgil_lee/Downloads/anaconda/anaconda3/envs/untitled2/lib/python3.7/site-packages/IPython/core/ultratb.py\", line 382, in find_recursion\n",
      "    return len(records), 0\n",
      "TypeError: object of type 'NoneType' has no len()\n",
      "\n",
      "During handling of the above exception, another exception occurred:\n",
      "\n",
      "Traceback (most recent call last):\n",
      "  File \"/Users/virgil_lee/Downloads/anaconda/anaconda3/envs/untitled2/lib/python3.7/site-packages/IPython/core/interactiveshell.py\", line 2077, in showtraceback\n",
      "    stb = value._render_traceback_()\n",
      "AttributeError: 'TypeError' object has no attribute '_render_traceback_'\n",
      "\n",
      "During handling of the above exception, another exception occurred:\n",
      "\n",
      "Traceback (most recent call last):\n",
      "  File \"/Users/virgil_lee/Downloads/anaconda/anaconda3/envs/untitled2/lib/python3.7/site-packages/IPython/core/ultratb.py\", line 1101, in get_records\n",
      "    return _fixed_getinnerframes(etb, number_of_lines_of_context, tb_offset)\n",
      "  File \"/Users/virgil_lee/Downloads/anaconda/anaconda3/envs/untitled2/lib/python3.7/site-packages/IPython/core/ultratb.py\", line 248, in wrapped\n",
      "    return f(*args, **kwargs)\n",
      "  File \"/Users/virgil_lee/Downloads/anaconda/anaconda3/envs/untitled2/lib/python3.7/site-packages/IPython/core/ultratb.py\", line 281, in _fixed_getinnerframes\n",
      "    records = fix_frame_records_filenames(inspect.getinnerframes(etb, context))\n",
      "  File \"/Users/virgil_lee/Downloads/anaconda/anaconda3/envs/untitled2/lib/python3.7/inspect.py\", line 1502, in getinnerframes\n",
      "    frameinfo = (tb.tb_frame,) + getframeinfo(tb, context)\n",
      "  File \"/Users/virgil_lee/Downloads/anaconda/anaconda3/envs/untitled2/lib/python3.7/inspect.py\", line 1460, in getframeinfo\n",
      "    filename = getsourcefile(frame) or getfile(frame)\n",
      "  File \"/Users/virgil_lee/Downloads/anaconda/anaconda3/envs/untitled2/lib/python3.7/inspect.py\", line 696, in getsourcefile\n",
      "    if getattr(getmodule(object, filename), '__loader__', None) is not None:\n",
      "  File \"/Users/virgil_lee/Downloads/anaconda/anaconda3/envs/untitled2/lib/python3.7/inspect.py\", line 733, in getmodule\n",
      "    if ismodule(module) and hasattr(module, '__file__'):\n",
      "  File \"/Users/virgil_lee/Downloads/anaconda/anaconda3/envs/untitled2/lib/python3.7/site-packages/tensorflow/__init__.py\", line 50, in __getattr__\n",
      "    module = self._load()\n",
      "  File \"/Users/virgil_lee/Downloads/anaconda/anaconda3/envs/untitled2/lib/python3.7/site-packages/tensorflow/__init__.py\", line 44, in _load\n",
      "    module = _importlib.import_module(self.__name__)\n",
      "  File \"/Users/virgil_lee/Downloads/anaconda/anaconda3/envs/untitled2/lib/python3.7/importlib/__init__.py\", line 127, in import_module\n",
      "    return _bootstrap._gcd_import(name[level:], package, level)\n",
      "  File \"<frozen importlib._bootstrap>\", line 1006, in _gcd_import\n",
      "  File \"<frozen importlib._bootstrap>\", line 983, in _find_and_load\n",
      "  File \"<frozen importlib._bootstrap>\", line 965, in _find_and_load_unlocked\n",
      "ModuleNotFoundError: No module named 'tensorflow_core.estimator'\n",
      "Traceback (most recent call last):\n",
      "  File \"/Users/virgil_lee/Downloads/anaconda/anaconda3/envs/untitled2/lib/python3.7/site-packages/IPython/core/interactiveshell.py\", line 3457, in run_code\n",
      "    exec(code_obj, self.user_global_ns, self.user_ns)\n",
      "  File \"/var/folders/9g/15wmnj2j4913201hs60_m1sh0000gn/T/ipykernel_74337/344838209.py\", line 5, in <module>\n",
      "    lstm_iter_model.fit(x_train,y_train,callbacks=[save_point])\n",
      "  File \"/Users/virgil_lee/Downloads/anaconda/anaconda3/envs/untitled2/lib/python3.7/site-packages/keras/wrappers/scikit_learn.py\", line 209, in fit\n",
      "    return super(KerasClassifier, self).fit(x, y, **kwargs)\n",
      "  File \"/Users/virgil_lee/Downloads/anaconda/anaconda3/envs/untitled2/lib/python3.7/site-packages/keras/wrappers/scikit_learn.py\", line 151, in fit\n",
      "    history = self.model.fit(x, y, **fit_args)\n",
      "  File \"/Users/virgil_lee/Downloads/anaconda/anaconda3/envs/untitled2/lib/python3.7/site-packages/keras/engine/training.py\", line 1239, in fit\n",
      "    validation_freq=validation_freq)\n",
      "  File \"/Users/virgil_lee/Downloads/anaconda/anaconda3/envs/untitled2/lib/python3.7/site-packages/keras/engine/training_arrays.py\", line 196, in fit_loop\n",
      "    outs = fit_function(ins_batch)\n",
      "  File \"/Users/virgil_lee/Downloads/anaconda/anaconda3/envs/untitled2/lib/python3.7/site-packages/tensorflow_core/python/keras/backend.py\", line 3476, in __call__\n",
      "    run_metadata=self.run_metadata)\n",
      "  File \"/Users/virgil_lee/Downloads/anaconda/anaconda3/envs/untitled2/lib/python3.7/site-packages/tensorflow_core/python/client/session.py\", line 1472, in __call__\n",
      "    run_metadata_ptr)\n",
      "KeyboardInterrupt\n",
      "\n",
      "During handling of the above exception, another exception occurred:\n",
      "\n",
      "Traceback (most recent call last):\n",
      "  File \"/Users/virgil_lee/Downloads/anaconda/anaconda3/envs/untitled2/lib/python3.7/site-packages/IPython/core/interactiveshell.py\", line 2077, in showtraceback\n",
      "    stb = value._render_traceback_()\n",
      "AttributeError: 'KeyboardInterrupt' object has no attribute '_render_traceback_'\n",
      "\n",
      "During handling of the above exception, another exception occurred:\n",
      "\n",
      "Traceback (most recent call last):\n",
      "  File \"/Users/virgil_lee/Downloads/anaconda/anaconda3/envs/untitled2/lib/python3.7/site-packages/IPython/core/interactiveshell.py\", line 3377, in run_ast_nodes\n",
      "    if (await self.run_code(code, result,  async_=asy)):\n",
      "  File \"/Users/virgil_lee/Downloads/anaconda/anaconda3/envs/untitled2/lib/python3.7/site-packages/IPython/core/interactiveshell.py\", line 3474, in run_code\n",
      "    self.showtraceback(running_compiled_code=True)\n",
      "  File \"/Users/virgil_lee/Downloads/anaconda/anaconda3/envs/untitled2/lib/python3.7/site-packages/IPython/core/interactiveshell.py\", line 2080, in showtraceback\n",
      "    value, tb, tb_offset=tb_offset)\n",
      "  File \"/Users/virgil_lee/Downloads/anaconda/anaconda3/envs/untitled2/lib/python3.7/site-packages/IPython/core/ultratb.py\", line 1368, in structured_traceback\n",
      "    self, etype, value, tb, tb_offset, number_of_lines_of_context)\n",
      "  File \"/Users/virgil_lee/Downloads/anaconda/anaconda3/envs/untitled2/lib/python3.7/site-packages/IPython/core/ultratb.py\", line 1268, in structured_traceback\n",
      "    self, etype, value, tb, tb_offset, number_of_lines_of_context\n",
      "  File \"/Users/virgil_lee/Downloads/anaconda/anaconda3/envs/untitled2/lib/python3.7/site-packages/IPython/core/ultratb.py\", line 1125, in structured_traceback\n",
      "    tb_offset)\n",
      "  File \"/Users/virgil_lee/Downloads/anaconda/anaconda3/envs/untitled2/lib/python3.7/site-packages/IPython/core/ultratb.py\", line 1082, in format_exception_as_a_whole\n",
      "    last_unique, recursion_repeat = find_recursion(orig_etype, evalue, records)\n",
      "  File \"/Users/virgil_lee/Downloads/anaconda/anaconda3/envs/untitled2/lib/python3.7/site-packages/IPython/core/ultratb.py\", line 382, in find_recursion\n",
      "    return len(records), 0\n",
      "TypeError: object of type 'NoneType' has no len()\n",
      "\n",
      "During handling of the above exception, another exception occurred:\n",
      "\n",
      "Traceback (most recent call last):\n",
      "  File \"/Users/virgil_lee/Downloads/anaconda/anaconda3/envs/untitled2/lib/python3.7/site-packages/IPython/core/interactiveshell.py\", line 2077, in showtraceback\n",
      "    stb = value._render_traceback_()\n",
      "AttributeError: 'TypeError' object has no attribute '_render_traceback_'\n",
      "\n",
      "During handling of the above exception, another exception occurred:\n",
      "\n",
      "Traceback (most recent call last):\n",
      "  File \"/Users/virgil_lee/Downloads/anaconda/anaconda3/envs/untitled2/lib/python3.7/site-packages/IPython/core/interactiveshell.py\", line 2960, in _run_cell\n",
      "    return runner(coro)\n",
      "  File \"/Users/virgil_lee/Downloads/anaconda/anaconda3/envs/untitled2/lib/python3.7/site-packages/IPython/core/async_helpers.py\", line 78, in _pseudo_sync_runner\n",
      "    coro.send(None)\n",
      "  File \"/Users/virgil_lee/Downloads/anaconda/anaconda3/envs/untitled2/lib/python3.7/site-packages/IPython/core/interactiveshell.py\", line 3186, in run_cell_async\n",
      "    interactivity=interactivity, compiler=compiler, result=result)\n",
      "  File \"/Users/virgil_lee/Downloads/anaconda/anaconda3/envs/untitled2/lib/python3.7/site-packages/IPython/core/interactiveshell.py\", line 3396, in run_ast_nodes\n",
      "    self.showtraceback()\n",
      "  File \"/Users/virgil_lee/Downloads/anaconda/anaconda3/envs/untitled2/lib/python3.7/site-packages/IPython/core/interactiveshell.py\", line 2080, in showtraceback\n",
      "    value, tb, tb_offset=tb_offset)\n",
      "  File \"/Users/virgil_lee/Downloads/anaconda/anaconda3/envs/untitled2/lib/python3.7/site-packages/IPython/core/ultratb.py\", line 1368, in structured_traceback\n",
      "    self, etype, value, tb, tb_offset, number_of_lines_of_context)\n",
      "  File \"/Users/virgil_lee/Downloads/anaconda/anaconda3/envs/untitled2/lib/python3.7/site-packages/IPython/core/ultratb.py\", line 1268, in structured_traceback\n",
      "    self, etype, value, tb, tb_offset, number_of_lines_of_context\n",
      "  File \"/Users/virgil_lee/Downloads/anaconda/anaconda3/envs/untitled2/lib/python3.7/site-packages/IPython/core/ultratb.py\", line 1143, in structured_traceback\n",
      "    chained_exceptions_tb_offset)\n",
      "  File \"/Users/virgil_lee/Downloads/anaconda/anaconda3/envs/untitled2/lib/python3.7/site-packages/IPython/core/ultratb.py\", line 1082, in format_exception_as_a_whole\n",
      "    last_unique, recursion_repeat = find_recursion(orig_etype, evalue, records)\n",
      "  File \"/Users/virgil_lee/Downloads/anaconda/anaconda3/envs/untitled2/lib/python3.7/site-packages/IPython/core/ultratb.py\", line 382, in find_recursion\n",
      "    return len(records), 0\n",
      "TypeError: object of type 'NoneType' has no len()\n",
      "\n",
      "During handling of the above exception, another exception occurred:\n",
      "\n",
      "Traceback (most recent call last):\n",
      "  File \"/Users/virgil_lee/Downloads/anaconda/anaconda3/envs/untitled2/lib/python3.7/site-packages/IPython/core/interactiveshell.py\", line 2077, in showtraceback\n",
      "    stb = value._render_traceback_()\n",
      "AttributeError: 'TypeError' object has no attribute '_render_traceback_'\n",
      "\n",
      "During handling of the above exception, another exception occurred:\n",
      "\n",
      "Traceback (most recent call last):\n",
      "  File \"/Users/virgil_lee/Downloads/anaconda/anaconda3/envs/untitled2/lib/python3.7/site-packages/IPython/core/ultratb.py\", line 1101, in get_records\n",
      "    return _fixed_getinnerframes(etb, number_of_lines_of_context, tb_offset)\n",
      "  File \"/Users/virgil_lee/Downloads/anaconda/anaconda3/envs/untitled2/lib/python3.7/site-packages/IPython/core/ultratb.py\", line 248, in wrapped\n",
      "    return f(*args, **kwargs)\n",
      "  File \"/Users/virgil_lee/Downloads/anaconda/anaconda3/envs/untitled2/lib/python3.7/site-packages/IPython/core/ultratb.py\", line 281, in _fixed_getinnerframes\n",
      "    records = fix_frame_records_filenames(inspect.getinnerframes(etb, context))\n",
      "  File \"/Users/virgil_lee/Downloads/anaconda/anaconda3/envs/untitled2/lib/python3.7/inspect.py\", line 1502, in getinnerframes\n",
      "    frameinfo = (tb.tb_frame,) + getframeinfo(tb, context)\n",
      "  File \"/Users/virgil_lee/Downloads/anaconda/anaconda3/envs/untitled2/lib/python3.7/inspect.py\", line 1460, in getframeinfo\n",
      "    filename = getsourcefile(frame) or getfile(frame)\n",
      "  File \"/Users/virgil_lee/Downloads/anaconda/anaconda3/envs/untitled2/lib/python3.7/inspect.py\", line 696, in getsourcefile\n",
      "    if getattr(getmodule(object, filename), '__loader__', None) is not None:\n",
      "  File \"/Users/virgil_lee/Downloads/anaconda/anaconda3/envs/untitled2/lib/python3.7/inspect.py\", line 733, in getmodule\n",
      "    if ismodule(module) and hasattr(module, '__file__'):\n",
      "  File \"/Users/virgil_lee/Downloads/anaconda/anaconda3/envs/untitled2/lib/python3.7/site-packages/tensorflow/__init__.py\", line 50, in __getattr__\n",
      "    module = self._load()\n",
      "  File \"/Users/virgil_lee/Downloads/anaconda/anaconda3/envs/untitled2/lib/python3.7/site-packages/tensorflow/__init__.py\", line 44, in _load\n",
      "    module = _importlib.import_module(self.__name__)\n",
      "  File \"/Users/virgil_lee/Downloads/anaconda/anaconda3/envs/untitled2/lib/python3.7/importlib/__init__.py\", line 127, in import_module\n",
      "    return _bootstrap._gcd_import(name[level:], package, level)\n",
      "  File \"<frozen importlib._bootstrap>\", line 1006, in _gcd_import\n",
      "  File \"<frozen importlib._bootstrap>\", line 983, in _find_and_load\n",
      "  File \"<frozen importlib._bootstrap>\", line 965, in _find_and_load_unlocked\n",
      "ModuleNotFoundError: No module named 'tensorflow_core.estimator'\n"
     ]
    }
   ],
   "source": [
    "train_test_acc=[]\n",
    "lstm_iter_model=KerasClassifier(build_fn=LSTM_model, epochs=50, batch_size=10)\n",
    "save_point=LambdaCallback(on_epoch_end=lambda epochs,logs:train_test_acc.append([accuracy_score(y_train,lstm_iter_model.predict(x_train)),\n",
    "                                                                                 accuracy_score(y_test,lstm_iter_model.predict(x_test))]))\n",
    "lstm_iter_model.fit(x_train,y_train,callbacks=[save_point])"
   ]
  },
  {
   "cell_type": "code",
   "execution_count": null,
   "id": "10fb935f",
   "metadata": {
    "pycharm": {
     "name": "#%%\n"
    }
   },
   "outputs": [],
   "source": [
    "df_lstm=pd.DataFrame(train_test_acc,columns=['train_acc','test_acc'])\n",
    "epoch=np.arange(1,len(df_lstm)+1)\n",
    "df_lstm.index=epoch\n",
    "print(df_lstm)\n",
    "plt.figure(figsize=(10,5))\n",
    "plt.plot(epoch,df_lstm['train_acc'],c='r',label='train_set_accuracy')\n",
    "plt.plot(epoch,df_lstm['test_acc'],c='b',label='test_set_accuracy')\n",
    "plt.xlabel('epoch')\n",
    "plt.ylabel('acc')\n",
    "plt.legend()\n",
    "plt.show("
   ]
  }
 ],
 "metadata": {
  "kernelspec": {
   "display_name": "Python 3",
   "language": "python",
   "name": "python3"
  },
  "language_info": {
   "codemirror_mode": {
    "name": "ipython",
    "version": 3
   },
   "file_extension": ".py",
   "mimetype": "text/x-python",
   "name": "python",
   "nbconvert_exporter": "python",
   "pygments_lexer": "ipython3",
   "version": "3.6.13"
  }
 },
 "nbformat": 4,
 "nbformat_minor": 5
}
